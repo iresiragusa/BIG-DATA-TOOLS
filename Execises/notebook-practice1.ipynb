{
 "cells": [
  {
   "cell_type": "markdown",
   "metadata": {},
   "source": [
    "E1. Compute mean, variance and standard deviation for a list of values and compare the results to the Python statistics module"
   ]
  },
  {
   "cell_type": "code",
   "execution_count": 1,
   "metadata": {},
   "outputs": [
    {
     "name": "stdout",
     "output_type": "stream",
     "text": [
      "24.0\n",
      "24.0\n"
     ]
    }
   ],
   "source": [
    "import statistics as stat\n",
    "grades=[24, 25, 27, 18, 20, 22, 23, 27, 30]\n",
    "\n",
    "def calc_mean(grades_list):\n",
    "    sum_value = sum(grades_list)\n",
    "    avg = sum_value / len(grades_list)\n",
    "    return avg\n",
    "\n",
    "avg = calc_mean(grades)\n",
    "print(avg)\n",
    "print(float(stat.mean(grades)))"
   ]
  },
  {
   "cell_type": "code",
   "execution_count": 2,
   "metadata": {},
   "outputs": [
    {
     "name": "stdout",
     "output_type": "stream",
     "text": [
      "12.444444444444445\n",
      "12.444444444444445\n",
      "12.444\n",
      "12.444\n"
     ]
    }
   ],
   "source": [
    "def cal_variance(grades_list):\n",
    "    avg = calc_mean(grades_list)\n",
    "    p = 0\n",
    "    for grade in grades_list:\n",
    "        p += (grade - avg)**2\n",
    "    variance = p / len(grades_list)\n",
    "    return variance\n",
    "\n",
    "print(cal_variance(grades))\n",
    "print(stat.pvariance(grades))\n",
    "\n",
    "print(f'{cal_variance(grades):.3f}')\n",
    "print(f'{stat.pvariance(grades):.3f}')"
   ]
  },
  {
   "cell_type": "markdown",
   "metadata": {},
   "source": [
    "E2. Implement a radians function that returns the radian equivalent of a degree. Use the following formula:\n",
    "\n",
    "`rad = degrees * pi/180`\n",
    "        \n",
    "Use this function to print a chart showing the radian equivalent of all degrees ranging from 1° to 180°. Use two digits of precision for the results. Print the outputs in a neat tabular format."
   ]
  },
  {
   "cell_type": "code",
   "execution_count": 10,
   "metadata": {},
   "outputs": [
    {
     "name": "stdout",
     "output_type": "stream",
     "text": [
      "0 deg = 0.00 rad\n",
      "1 deg = 0.02 rad\n",
      "2 deg = 0.03 rad\n",
      "3 deg = 0.05 rad\n",
      "4 deg = 0.07 rad\n",
      "5 deg = 0.09 rad\n",
      "6 deg = 0.10 rad\n",
      "7 deg = 0.12 rad\n",
      "8 deg = 0.14 rad\n",
      "9 deg = 0.16 rad\n",
      "10 deg = 0.17 rad\n",
      "11 deg = 0.19 rad\n",
      "12 deg = 0.21 rad\n",
      "13 deg = 0.23 rad\n",
      "14 deg = 0.24 rad\n",
      "15 deg = 0.26 rad\n",
      "16 deg = 0.28 rad\n",
      "17 deg = 0.30 rad\n",
      "18 deg = 0.31 rad\n",
      "19 deg = 0.33 rad\n",
      "20 deg = 0.35 rad\n",
      "21 deg = 0.37 rad\n",
      "22 deg = 0.38 rad\n",
      "23 deg = 0.40 rad\n",
      "24 deg = 0.42 rad\n",
      "25 deg = 0.44 rad\n",
      "26 deg = 0.45 rad\n",
      "27 deg = 0.47 rad\n",
      "28 deg = 0.49 rad\n",
      "29 deg = 0.51 rad\n",
      "30 deg = 0.52 rad\n",
      "31 deg = 0.54 rad\n",
      "32 deg = 0.56 rad\n",
      "33 deg = 0.58 rad\n",
      "34 deg = 0.59 rad\n",
      "35 deg = 0.61 rad\n",
      "36 deg = 0.63 rad\n",
      "37 deg = 0.65 rad\n",
      "38 deg = 0.66 rad\n",
      "39 deg = 0.68 rad\n",
      "40 deg = 0.70 rad\n",
      "41 deg = 0.72 rad\n",
      "42 deg = 0.73 rad\n",
      "43 deg = 0.75 rad\n",
      "44 deg = 0.77 rad\n",
      "45 deg = 0.79 rad\n",
      "46 deg = 0.80 rad\n",
      "47 deg = 0.82 rad\n",
      "48 deg = 0.84 rad\n",
      "49 deg = 0.86 rad\n",
      "50 deg = 0.87 rad\n",
      "51 deg = 0.89 rad\n",
      "52 deg = 0.91 rad\n",
      "53 deg = 0.93 rad\n",
      "54 deg = 0.94 rad\n",
      "55 deg = 0.96 rad\n",
      "56 deg = 0.98 rad\n",
      "57 deg = 0.99 rad\n",
      "58 deg = 1.01 rad\n",
      "59 deg = 1.03 rad\n",
      "60 deg = 1.05 rad\n",
      "61 deg = 1.06 rad\n",
      "62 deg = 1.08 rad\n",
      "63 deg = 1.10 rad\n",
      "64 deg = 1.12 rad\n",
      "65 deg = 1.13 rad\n",
      "66 deg = 1.15 rad\n",
      "67 deg = 1.17 rad\n",
      "68 deg = 1.19 rad\n",
      "69 deg = 1.20 rad\n",
      "70 deg = 1.22 rad\n",
      "71 deg = 1.24 rad\n",
      "72 deg = 1.26 rad\n",
      "73 deg = 1.27 rad\n",
      "74 deg = 1.29 rad\n",
      "75 deg = 1.31 rad\n",
      "76 deg = 1.33 rad\n",
      "77 deg = 1.34 rad\n",
      "78 deg = 1.36 rad\n",
      "79 deg = 1.38 rad\n",
      "80 deg = 1.40 rad\n",
      "81 deg = 1.41 rad\n",
      "82 deg = 1.43 rad\n",
      "83 deg = 1.45 rad\n",
      "84 deg = 1.47 rad\n",
      "85 deg = 1.48 rad\n",
      "86 deg = 1.50 rad\n",
      "87 deg = 1.52 rad\n",
      "88 deg = 1.54 rad\n",
      "89 deg = 1.55 rad\n",
      "90 deg = 1.57 rad\n",
      "91 deg = 1.59 rad\n",
      "92 deg = 1.61 rad\n",
      "93 deg = 1.62 rad\n",
      "94 deg = 1.64 rad\n",
      "95 deg = 1.66 rad\n",
      "96 deg = 1.68 rad\n",
      "97 deg = 1.69 rad\n",
      "98 deg = 1.71 rad\n",
      "99 deg = 1.73 rad\n",
      "100 deg = 1.75 rad\n",
      "101 deg = 1.76 rad\n",
      "102 deg = 1.78 rad\n",
      "103 deg = 1.80 rad\n",
      "104 deg = 1.82 rad\n",
      "105 deg = 1.83 rad\n",
      "106 deg = 1.85 rad\n",
      "107 deg = 1.87 rad\n",
      "108 deg = 1.88 rad\n",
      "109 deg = 1.90 rad\n",
      "110 deg = 1.92 rad\n",
      "111 deg = 1.94 rad\n",
      "112 deg = 1.95 rad\n",
      "113 deg = 1.97 rad\n",
      "114 deg = 1.99 rad\n",
      "115 deg = 2.01 rad\n",
      "116 deg = 2.02 rad\n",
      "117 deg = 2.04 rad\n",
      "118 deg = 2.06 rad\n",
      "119 deg = 2.08 rad\n",
      "120 deg = 2.09 rad\n",
      "121 deg = 2.11 rad\n",
      "122 deg = 2.13 rad\n",
      "123 deg = 2.15 rad\n",
      "124 deg = 2.16 rad\n",
      "125 deg = 2.18 rad\n",
      "126 deg = 2.20 rad\n",
      "127 deg = 2.22 rad\n",
      "128 deg = 2.23 rad\n",
      "129 deg = 2.25 rad\n",
      "130 deg = 2.27 rad\n",
      "131 deg = 2.29 rad\n",
      "132 deg = 2.30 rad\n",
      "133 deg = 2.32 rad\n",
      "134 deg = 2.34 rad\n",
      "135 deg = 2.36 rad\n",
      "136 deg = 2.37 rad\n",
      "137 deg = 2.39 rad\n",
      "138 deg = 2.41 rad\n",
      "139 deg = 2.43 rad\n",
      "140 deg = 2.44 rad\n",
      "141 deg = 2.46 rad\n",
      "142 deg = 2.48 rad\n",
      "143 deg = 2.50 rad\n",
      "144 deg = 2.51 rad\n",
      "145 deg = 2.53 rad\n",
      "146 deg = 2.55 rad\n",
      "147 deg = 2.57 rad\n",
      "148 deg = 2.58 rad\n",
      "149 deg = 2.60 rad\n",
      "150 deg = 2.62 rad\n",
      "151 deg = 2.64 rad\n",
      "152 deg = 2.65 rad\n",
      "153 deg = 2.67 rad\n",
      "154 deg = 2.69 rad\n",
      "155 deg = 2.71 rad\n",
      "156 deg = 2.72 rad\n",
      "157 deg = 2.74 rad\n",
      "158 deg = 2.76 rad\n",
      "159 deg = 2.78 rad\n",
      "160 deg = 2.79 rad\n",
      "161 deg = 2.81 rad\n",
      "162 deg = 2.83 rad\n",
      "163 deg = 2.84 rad\n",
      "164 deg = 2.86 rad\n",
      "165 deg = 2.88 rad\n",
      "166 deg = 2.90 rad\n",
      "167 deg = 2.91 rad\n",
      "168 deg = 2.93 rad\n",
      "169 deg = 2.95 rad\n",
      "170 deg = 2.97 rad\n",
      "171 deg = 2.98 rad\n",
      "172 deg = 3.00 rad\n",
      "173 deg = 3.02 rad\n",
      "174 deg = 3.04 rad\n",
      "175 deg = 3.05 rad\n",
      "176 deg = 3.07 rad\n",
      "177 deg = 3.09 rad\n",
      "178 deg = 3.11 rad\n",
      "179 deg = 3.12 rad\n"
     ]
    }
   ],
   "source": [
    "import math\n",
    "def radians(deg):\n",
    "  return deg*math.pi/180\n",
    "\n",
    "for d in range(180):\n",
    "  print(f'{d} deg = {radians(d):.2f} rad')"
   ]
  },
  {
   "cell_type": "markdown",
   "metadata": {},
   "source": [
    "E3. Duplicate Elimination\n",
    "\n",
    "In organizations, a list of email addresses is often compiled for marketing purposes. However, duplicate email addresses need to be removed from this list. Write a function that receives a list and returns a list containing only unique values. Test your function with a list of email addresses."
   ]
  },
  {
   "cell_type": "code",
   "execution_count": 5,
   "metadata": {},
   "outputs": [
    {
     "name": "stdout",
     "output_type": "stream",
     "text": [
      "['a@b.com', 'b@c.com', 'a@b.com', 'c@c.com', 'm@gmail.com', 'c@c.com', 'luigi@gmail.com', 'A@B.COM']\n",
      "['a@b.com', 'b@c.com', 'c@c.com', 'm@gmail.com', 'luigi@gmail.com']\n",
      "{'luigi@gmail.com', 'A@B.COM', 'b@c.com', 'a@b.com', 'c@c.com', 'm@gmail.com'}\n"
     ]
    }
   ],
   "source": [
    "def remove_duplicates(email):\n",
    "  res = []\n",
    "  for e in email:\n",
    "    if e.lower() not in res:\n",
    "      res.append(e.lower())\n",
    "  return res\n",
    "\n",
    "m = ['a@b.com', 'b@c.com', 'a@b.com', 'c@c.com', 'm@gmail.com', 'c@c.com', 'luigi@gmail.com', 'A@B.COM']\n",
    "print(m)\n",
    "print(remove_duplicates(m))\n",
    "print(set(m))"
   ]
  },
  {
   "cell_type": "markdown",
   "metadata": {},
   "source": [
    "E4. Counting Votes\n",
    "\n",
    "Write a script that uses a dictionary to determine the number of votes received by candidates in an election. The votes are concatenated in a string where each vote is separated from the next by a comma.\n",
    "\n",
    "[Hint: split can take in an argument for the specific delimiter you wish to use in a string.]"
   ]
  },
  {
   "cell_type": "code",
   "execution_count": 15,
   "metadata": {},
   "outputs": [
    {
     "name": "stdout",
     "output_type": "stream",
     "text": [
      "['Trump', 'Harris', 'Harris', 'Trump', 'Harris', 'Harris', 'Trump', 'Harris']\n",
      "{'Trump': 3, 'Harris': 5}\n"
     ]
    }
   ],
   "source": [
    "votes = 'Trump,Harris,Harris,Trump,Harris,Harris,Trump,Harris'\n",
    "splitted_votes = votes.split(',')\n",
    "print(splitted_votes)\n",
    "\n",
    "counted_votes = {}\n",
    "\n",
    "for vote in splitted_votes:\n",
    "    if not vote in counted_votes:\n",
    "        counted_votes[vote] = 1\n",
    "    else:\n",
    "        counted_votes[vote] += 1\n",
    "\n",
    "print(counted_votes)"
   ]
  },
  {
   "cell_type": "markdown",
   "metadata": {},
   "source": [
    "E5. Class Average - TXT\n",
    "\n",
    "Write code that enables you to store any number of grades into a grades.txt plain text file.\n",
    "Write code that reads the grades from the grades.txt file you created in the previous exercise. Display the individual grades and their total, count and average."
   ]
  },
  {
   "cell_type": "code",
   "execution_count": 16,
   "metadata": {},
   "outputs": [
    {
     "name": "stdout",
     "output_type": "stream",
     "text": [
      "[30, 18, 26, 25, 17, 28, 22, 18, 18]\n",
      "202\n",
      "202\n",
      "sum ->  202\n",
      "count ->  9\n",
      "avg ->  22.444444444444443\n"
     ]
    }
   ],
   "source": [
    "path = '/Users/irene/Library/CloudStorage/OneDrive-UNIPA/UNIPA/DIDATTICA/BIG DATA TOOLS/SLIDES/exercises/'\n",
    "\n",
    "with open(path+'grades.txt', 'w') as grades:\n",
    "    while True:\n",
    "        g = int(input('insert a grade (type a negative numbert to stop)'))\n",
    "        if g < 0:\n",
    "            break\n",
    "        else:\n",
    "            grades.write(str(g)+'\\n')\n",
    "\n",
    "g_list = []\n",
    "with open(path+'grades.txt', 'r') as grades:\n",
    "    for g in grades:\n",
    "        g_list.append(int(g))\n",
    "    \n",
    "print(g_list)\n",
    "\n",
    "\n",
    "# total\n",
    "s = 0\n",
    "for g in g_list:\n",
    "    s += g\n",
    "\n",
    "print(s)\n",
    "print(sum(g_list))  #smartest way\n",
    "\n",
    "print('sum -> ', sum(g_list))\n",
    "print('count -> ', len(g_list))\n",
    "print('avg -> ', sum(g_list)/len(g_list))"
   ]
  },
  {
   "cell_type": "markdown",
   "metadata": {},
   "source": [
    "E6. Class Average - CSV\n",
    "\n",
    "An instructor teaches a class in which each student takes three exams. The instructor would like to store this information in a file named grades.csv. Write code that enables an instructor to enter each student’s first name and last name as strings and the student’s three exam grades as integers.\n",
    "\n",
    "Use the csv module to write each record into the grades.csv file. Each record should be a single line of text in the following CSV format:\n",
    "\n",
    "`firstname,lastname,exam1grade,exam2grade,exam3grade`\n",
    "\n",
    "Use the csv module to read the grades.csv and display the data in tabular format."
   ]
  },
  {
   "cell_type": "code",
   "execution_count": 17,
   "metadata": {},
   "outputs": [
    {
     "name": "stdout",
     "output_type": "stream",
     "text": [
      "file saved\n"
     ]
    }
   ],
   "source": [
    "import csv\n",
    "\n",
    "with open(path+'grades.csv', 'w') as grades:\n",
    "    writer = csv.writer(grades)\n",
    "    while True:\n",
    "        name = str(input('input student name: '))\n",
    "        surname = str(input('input student surname: '))\n",
    "        g1 = int(input('1st grade: '))\n",
    "        g2 = int(input('2nd grade: '))\n",
    "        g3 = int(input('3rd grade: '))\n",
    "\n",
    "        writer.writerow([name,surname,g1,g2,g3])\n",
    "\n",
    "        e = str(input('continue? [Y/N] '))\n",
    "        if e == 'N':\n",
    "            break\n",
    "\n",
    "print('file saved')"
   ]
  },
  {
   "cell_type": "code",
   "execution_count": 19,
   "metadata": {},
   "outputs": [
    {
     "name": "stdout",
     "output_type": "stream",
     "text": [
      "Name      Surname   Grade 1   Grade 2   Grade 3   \n",
      "irene     siragusa  18        25        300       \n"
     ]
    }
   ],
   "source": [
    "with open(path+'grades.csv', 'r', newline='') as grades:\n",
    "  print(f'{\"Name\":<10}{\"Surname\":<10}{\"Grade 1\":<10}{\"Grade 2\":<10}{\"Grade 3\":<10}')\n",
    "  reader = csv.reader(grades)\n",
    "  for record in reader:\n",
    "    firstname, lastname, voto1, voto2, voto3 = record\n",
    "    print(f'{firstname:<10}{lastname:<10}{voto1:<10}{voto2:<10}{voto3:<10}')"
   ]
  },
  {
   "cell_type": "markdown",
   "metadata": {},
   "source": [
    "E7. Class Average - JSON\n",
    "\n",
    "Use the json module to write the student information to the file in JSON format, create a dictionary of student data in the following format:\n",
    "\n",
    "`gradebook_dict = {'students': [student1dictionary, student2dictionary, ...]}`\n",
    "\n",
    "Each dictionary in the list represents one student and contains the keys 'first_name', 'last_name', 'exam1', 'exam2' and 'exam3', which map to the values representing each student’s first name (string), last name (string) and three exam scores (integers).\n",
    "\n",
    "Output the gradebook_dict in JSON format to the file grades.json.\n",
    "\n",
    "Read the grades.json and display the data in tabular format.\n"
   ]
  },
  {
   "cell_type": "code",
   "execution_count": 20,
   "metadata": {},
   "outputs": [],
   "source": [
    "import json\n",
    "gradebook_dict={}\n",
    "student_list=[]\n",
    "while True:\n",
    "  name = str(input('input student name: '))\n",
    "  surname = str(input('input student surname: '))\n",
    "  g1 = int(input('1st grade: '))\n",
    "  g2 = int(input('2nd grade: '))\n",
    "  g3 = int(input('3rd grade: '))\n",
    "  student_list.append({\"first_name\":firstname, \"last_name\":surname, \"exam1\":g1, \"exam2\":g2, \"exam3\":g3})\n",
    "  c=input('Continue? (s/n):')\n",
    "  if c=='n':\n",
    "    break\n",
    "gradebook_dict[\"students\"]=student_list\n",
    "with open(path+'grades.json', 'w') as grades:\n",
    "  json.dump(gradebook_dict, grades)"
   ]
  },
  {
   "cell_type": "code",
   "execution_count": 21,
   "metadata": {},
   "outputs": [
    {
     "name": "stdout",
     "output_type": "stream",
     "text": [
      "{'students': [{'first_name': 'irene', 'last_name': 'siragusa', 'exam1': 15, 'exam2': 18, 'exam3': 25}]}\n",
      "Name      Surname   Grade 1 Grade 2 Grade 3 Mean    \n",
      "irene     siragusa  15      18      25      19.33   \n",
      "Mean per subject:   15.00   18.00   25.00   \n"
     ]
    }
   ],
   "source": [
    "import json\n",
    "with open(path+'grades.json', 'r') as grades:\n",
    "  grades_json = json.load(grades)\n",
    "\n",
    "print(grades_json)\n",
    "\n",
    "total1=total2=total3=count=0\n",
    "student_list = grades_json['students']\n",
    "print(f'{\"Name\":<10}{\"Surname\":<10}{\"Grade 1\":<8}{\"Grade 2\":<8}{\"Grade 3\":<8}{\"Mean\":<8}')\n",
    "\n",
    "for s in student_list:\n",
    "  student_average = (s['exam1']+s['exam2']+s['exam3'])/3\n",
    "  print(f\"{s['first_name']:<10}{s['last_name']:<10}{s['exam1']:<8}{s['exam2']:<8}{s['exam3']:<8}{student_average:<8.2f}\")\n",
    "  count+=1\n",
    "  total1+=s['exam1']\n",
    "  total2+=s['exam2']\n",
    "  total3+=s['exam3']\n",
    "\n",
    "print(f'{\"Mean per subject:\":<20}{(total1/count):<8.2f}{(total2/count):<8.2f}{(total3/count):<8.2f}')\n"
   ]
  }
 ],
 "metadata": {
  "kernelspec": {
   "display_name": "big-data-env",
   "language": "python",
   "name": "python3"
  },
  "language_info": {
   "codemirror_mode": {
    "name": "ipython",
    "version": 3
   },
   "file_extension": ".py",
   "mimetype": "text/x-python",
   "name": "python",
   "nbconvert_exporter": "python",
   "pygments_lexer": "ipython3",
   "version": "3.13.7"
  }
 },
 "nbformat": 4,
 "nbformat_minor": 2
}
